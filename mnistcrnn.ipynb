{
 "cells": [
  {
   "cell_type": "code",
   "execution_count": 3,
   "metadata": {},
   "outputs": [],
   "source": [
    "'''\n",
    "Basic demonstration of the capabilities of the CRNN using TimeDistributed layers\n",
    "Processes an MNIST image (or blank square) at each time step and sums the digits.\n",
    "Learning is based on the sum of the digits, not explicit labels on each digit.\n",
    "'''\n",
    "\n",
    "from __future__ import print_function\n",
    "import numpy as np\n",
    "\n",
    "import keras.backend as K\n",
    "from keras.datasets import mnist\n",
    "from keras.models import Sequential\n",
    "#from keras.initializations import norRemal, identity\n",
    "from keras.layers.recurrent import SimpleRNN, LSTM, GRU\n",
    "from keras.optimizers import RMSprop, Adadelta\n",
    "from keras.layers.convolutional import Convolution2D\n",
    "from keras.layers.core import Dense, Activation, Dropout, Reshape, Flatten\n",
    "from keras.layers.wrappers import TimeDistributed\n",
    "from keras.models import model_from_json\n",
    "#import json"
   ]
  },
  {
   "cell_type": "code",
   "execution_count": 4,
   "metadata": {
    "collapsed": true
   },
   "outputs": [],
   "source": [
    "# for reproducibility\n",
    "np.random.seed(2016)  \n",
    "K.set_image_dim_ordering('tf')\n",
    "#define some run parameters\n",
    "batch_size      = 32\n",
    "nb_epochs       = 1\n",
    "examplesPer     = 60000\n",
    "maxToAdd        = 8\n",
    "hidden_units    = 200\n",
    "size            = 28\n",
    "#cutoff          = 1000"
   ]
  },
  {
   "cell_type": "code",
   "execution_count": 5,
   "metadata": {},
   "outputs": [
    {
     "name": "stdout",
     "output_type": "stream",
     "text": [
      "Downloading data from https://s3.amazonaws.com/img-datasets/mnist.npz\n",
      "10280960/11490434 [=========================>....] - ETA: 0s"
     ]
    }
   ],
   "source": [
    "# the data, shuffled and split between train and test sets\n",
    "(X_train_raw, y_train_temp), (X_test_raw, y_test_temp) = mnist.load_data()\n",
    "\n",
    "#ignore \"cutoff\" section in full run\n",
    "#X_train_raw     = X_train_raw[:cutoff]\n",
    "#X_test_raw      = X_test_raw[:cutoff]\n",
    "#y_train_temp    = y_train_temp[:cutoff]\n",
    "#y_test_temp     = y_test_temp[:cutoff]\n",
    "\n",
    "#basic image processing\n",
    "X_train_raw = X_train_raw.astype('float32')\n",
    "X_test_raw  = X_test_raw.astype('float32')\n",
    "X_train_raw /= 255\n",
    "X_test_raw  /= 255"
   ]
  },
  {
   "cell_type": "code",
   "execution_count": 6,
   "metadata": {},
   "outputs": [
    {
     "name": "stdout",
     "output_type": "stream",
     "text": [
      "X_train_raw shape: (60000, 28, 28)\n",
      "60000 train samples\n",
      "10000 test samples\n",
      "Building model\n"
     ]
    }
   ],
   "source": [
    "print('X_train_raw shape:', X_train_raw.shape)\n",
    "print(X_train_raw.shape[0], 'train samples')\n",
    "print(X_test_raw.shape[0], 'test samples')\n",
    "print(\"Building model\")"
   ]
  },
  {
   "cell_type": "code",
   "execution_count": 10,
   "metadata": {},
   "outputs": [
    {
     "name": "stderr",
     "output_type": "stream",
     "text": [
      "/storage/work/spd13/dl/lib/python3.6/site-packages/ipykernel_launcher.py:13: UserWarning: Update your `GRU` call to the Keras 2 API: `GRU(return_sequences=True, units=100)`\n",
      "  del sys.path[0]\n",
      "/storage/work/spd13/dl/lib/python3.6/site-packages/ipykernel_launcher.py:14: UserWarning: Update your `GRU` call to the Keras 2 API: `GRU(return_sequences=False, units=50)`\n",
      "  \n"
     ]
    }
   ],
   "source": [
    "#define our time-distributed setup\n",
    "model = Sequential()\n",
    "model.add(TimeDistributed(Convolution2D(8, 4, strides=4, padding='valid'), input_shape=(maxToAdd,size,size,1)))\n",
    "model.add(Activation('relu'))\n",
    "model.add(TimeDistributed(Convolution2D(16, 3, strides=4,padding ='valid')))\n",
    "#model.add(TimeDistributed(MaxPooling2D(pool_size=(2, 2),border_mode='valid')))\n",
    "#model.add(Activation('relu'))\n",
    "#model.add(TimeDistributed(Convolution2D(8, 3, 3, border_mode='valid')))\n",
    "model.add(Activation('relu'))\n",
    "#model.add(Reshape((maxToAdd,np.prod(model.output_shape[-3:])))) #this line updated to work with keras 1.0.2\n",
    "model.add(TimeDistributed(Flatten()))\n",
    "model.add(Activation('relu'))\n",
    "model.add(GRU(return_sequences=True,output_dim=100))\n",
    "model.add(GRU(return_sequences=False,output_dim=50))\n",
    "model.add(Dropout(.2))\n",
    "model.add(Dense(1))\n",
    "\n",
    "rmsprop = RMSprop()\n",
    "model.compile(loss='mean_squared_error', optimizer=rmsprop)"
   ]
  },
  {
   "cell_type": "code",
   "execution_count": 34,
   "metadata": {},
   "outputs": [
    {
     "data": {
      "image/png": "[encoded data removed]",
      "text/plain": [
       "<matplotlib.figure.Figure at 0x7f9173114ef0>"
      ]
     },
     "metadata": {},
     "output_type": "display_data"
    }
   ],
   "source": [
    "import matplotlib.pyplot as plt\n",
    "plt.imshow(X_train_raw[0,:,:])\n",
    "plt.show()"
   ]
  },
  {
   "cell_type": "code",
   "execution_count": 35,
   "metadata": {},
   "outputs": [
    {
     "name": "stdout",
     "output_type": "stream",
     "text": [
      "X_train shape:  (60000, 8, 28, 28, 1)\n",
      "y_train shape:  (60000,)\n"
     ]
    },
    {
     "name": "stderr",
     "output_type": "stream",
     "text": [
      "/storage/work/spd13/dl/lib/python3.6/site-packages/keras/models.py:848: UserWarning: The `nb_epoch` argument in `fit` has been renamed `epochs`.\n",
      "  warnings.warn('The `nb_epoch` argument in `fit` '\n"
     ]
    },
    {
     "name": "stdout",
     "output_type": "stream",
     "text": [
      "Epoch 1/1\n",
      "60000/60000 [==============================] - 56s - loss: 50.0035    \n"
     ]
    }
   ],
   "source": [
    "#run epochs of sampling data then training\n",
    "for ep in range(0,nb_epochs):\n",
    "    X_train       = []\n",
    "    y_train       = []\n",
    "    X_test        = []\n",
    "    y_test        = []    \n",
    "    \n",
    "    X_train     = np.zeros((examplesPer,maxToAdd,size,size,1))\n",
    "\n",
    "    for i in range(0,examplesPer):\n",
    "        #initialize a training example of max_num_time_steps,im_size,im_size\n",
    "        output      = np.zeros((maxToAdd,size,size,1))\n",
    "        #decide how many MNIST images to put in that tensor\n",
    "        numToAdd    = int(np.ceil(np.random.rand()*maxToAdd))\n",
    "        #sample that many images\n",
    "        indices     = np.random.choice(X_train_raw.shape[0],size=numToAdd)\n",
    "        example     = X_train_raw[indices]\n",
    "        #sum up the outputs for new output\n",
    "        exampleY    = y_train_temp[indices]\n",
    "        output[0:numToAdd,:,:,0] = example\n",
    "        X_train[i,:,:,:,:] = output\n",
    "        y_train.append(np.sum(exampleY))\n",
    "\n",
    "    y_train     = np.array(y_train)\n",
    "    \n",
    "    if ep == 0:\n",
    "        print(\"X_train shape: \",X_train.shape)\n",
    "        print(\"y_train shape: \",y_train.shape)\n",
    "    \n",
    "    model.fit(X_train, y_train, batch_size=batch_size, nb_epoch=1,\n",
    "              verbose=1)"
   ]
  },
  {
   "cell_type": "code",
   "execution_count": 36,
   "metadata": {},
   "outputs": [
    {
     "name": "stdout",
     "output_type": "stream",
     "text": [
      "4.01529176342\n",
      "naive guess 11.9130648692\n"
     ]
    }
   ],
   "source": [
    "#Test the model\n",
    "X_test     = np.zeros((examplesPer,maxToAdd,size,size,1))\n",
    "for i in range(0,examplesPer):\n",
    "    output      = np.zeros((maxToAdd,size,size,1))\n",
    "    numToAdd    = int(np.ceil(np.random.rand()*maxToAdd))\n",
    "    indices     = np.random.choice(X_test_raw.shape[0],size=numToAdd)\n",
    "    example     = X_test_raw[indices]\n",
    "    exampleY    = y_test_temp[indices]\n",
    "    output[0:numToAdd,:,:,0] = example\n",
    "    X_test[i,:,:,:,:] = output\n",
    "    y_test.append(np.sum(exampleY))\n",
    "\n",
    "X_test  = np.array(X_test)\n",
    "y_test  = np.array(y_test)       \n",
    "\n",
    "preds   = model.predict(X_test)\n",
    "\n",
    "#print the results of the test    \n",
    "print(np.sum(np.sqrt(np.mean([ (y_test[i] - preds[i][0])**2 for i in range(0,len(preds)) ]))))\n",
    "print(\"naive guess\", np.sum(np.sqrt(np.mean([ (y_test[i] - np.mean(y_test))**2 for i in range(0,len(y_test)) ]))))"
   ]
  },
  {
   "cell_type": "code",
   "execution_count": null,
   "metadata": {
    "collapsed": true
   },
   "outputs": [],
   "source": []
  }
 ],
 "metadata": {
  "kernelspec": {
   "display_name": "Python 3",
   "language": "python",
   "name": "python3"
  },
  "language_info": {
   "codemirror_mode": {
    "name": "ipython",
    "version": 3
   },
   "file_extension": ".py",
   "mimetype": "text/x-python",
   "name": "python",
   "nbconvert_exporter": "python",
   "pygments_lexer": "ipython3",
   "version": "3.6.3"
  }
 },
 "nbformat": 4,
 "nbformat_minor": 2
}
